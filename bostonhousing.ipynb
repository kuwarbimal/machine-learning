{
  "nbformat": 4,
  "nbformat_minor": 0,
  "metadata": {
    "colab": {
      "name": "bostonhousing",
      "provenance": []
    },
    "kernelspec": {
      "name": "python3",
      "display_name": "Python 3"
    }
  },
  "cells": [
    {
      "cell_type": "code",
      "metadata": {
        "id": "9HfyRTha7PtJ"
      },
      "source": [
        "import numpy as np\n",
        "import matplotlib.pyplot as plt\n",
        "from sklearn import datasets\n"
      ],
      "execution_count": null,
      "outputs": []
    },
    {
      "cell_type": "code",
      "metadata": {
        "id": "SERShQVS7ojq",
        "colab": {
          "base_uri": "https://localhost:8080/",
          "height": 34
        },
        "outputId": "45fc02c6-7a34-4dd5-8f0a-1b38827ae45c"
      },
      "source": [
        "X, Y=datasets.load_boston(return_X_y=True)\n",
        "print(X.shape, Y.shape)\n"
      ],
      "execution_count": null,
      "outputs": [
        {
          "output_type": "stream",
          "text": [
            "(506, 13) (506,)\n"
          ],
          "name": "stdout"
        }
      ]
    },
    {
      "cell_type": "code",
      "metadata": {
        "id": "GMGurMPM8Lo1",
        "colab": {
          "base_uri": "https://localhost:8080/",
          "height": 136
        },
        "outputId": "6eb3edaf-0022-46d1-f90b-6543dd0289e6"
      },
      "source": [
        "print(X)"
      ],
      "execution_count": null,
      "outputs": [
        {
          "output_type": "stream",
          "text": [
            "[[6.3200e-03 1.8000e+01 2.3100e+00 ... 1.5300e+01 3.9690e+02 4.9800e+00]\n",
            " [2.7310e-02 0.0000e+00 7.0700e+00 ... 1.7800e+01 3.9690e+02 9.1400e+00]\n",
            " [2.7290e-02 0.0000e+00 7.0700e+00 ... 1.7800e+01 3.9283e+02 4.0300e+00]\n",
            " ...\n",
            " [6.0760e-02 0.0000e+00 1.1930e+01 ... 2.1000e+01 3.9690e+02 5.6400e+00]\n",
            " [1.0959e-01 0.0000e+00 1.1930e+01 ... 2.1000e+01 3.9345e+02 6.4800e+00]\n",
            " [4.7410e-02 0.0000e+00 1.1930e+01 ... 2.1000e+01 3.9690e+02 7.8800e+00]]\n"
          ],
          "name": "stdout"
        }
      ]
    },
    {
      "cell_type": "code",
      "metadata": {
        "id": "3KhtG_QO8UOE"
      },
      "source": [
        "means=np.mean(X, axis=0)"
      ],
      "execution_count": null,
      "outputs": []
    },
    {
      "cell_type": "code",
      "metadata": {
        "id": "pTDmou979CQX"
      },
      "source": [
        "standard=np.std(X, axis=0)"
      ],
      "execution_count": null,
      "outputs": []
    },
    {
      "cell_type": "code",
      "metadata": {
        "id": "CETjxLv69PkJ",
        "colab": {
          "base_uri": "https://localhost:8080/",
          "height": 85
        },
        "outputId": "22f389ca-217b-4c75-d4ad-9448f9a696d3"
      },
      "source": [
        "print(standard)"
      ],
      "execution_count": null,
      "outputs": [
        {
          "output_type": "stream",
          "text": [
            "[8.59304135e+00 2.32993957e+01 6.85357058e+00 2.53742935e-01\n",
            " 1.15763115e-01 7.01922514e-01 2.81210326e+01 2.10362836e+00\n",
            " 8.69865112e+00 1.68370495e+02 2.16280519e+00 9.12046075e+01\n",
            " 7.13400164e+00]\n"
          ],
          "name": "stdout"
        }
      ]
    },
    {
      "cell_type": "code",
      "metadata": {
        "id": "4FhZfQ3-9Ufr",
        "colab": {
          "base_uri": "https://localhost:8080/",
          "height": 85
        },
        "outputId": "374e9a7b-4bd8-4a63-f09b-41fb9b3925e5"
      },
      "source": [
        "np.mean(X-means, axis=0)\n"
      ],
      "execution_count": null,
      "outputs": [
        {
          "output_type": "execute_result",
          "data": {
            "text/plain": [
              "array([-3.05245508e-15,  2.07616094e-14, -2.80039496e-14, -1.18975975e-16,\n",
              "        2.64171645e-16, -8.14105042e-15, -3.55271368e-14,  1.72018745e-15,\n",
              "        4.68312258e-15,  3.37016317e-13, -2.34858246e-14,  7.63229620e-13,\n",
              "       -3.56500073e-15])"
            ]
          },
          "metadata": {
            "tags": []
          },
          "execution_count": 12
        }
      ]
    },
    {
      "cell_type": "code",
      "metadata": {
        "id": "bZnXLRDU9x3f",
        "colab": {
          "base_uri": "https://localhost:8080/",
          "height": 34
        },
        "outputId": "c61993a2-1498-401f-9e8f-96f7dc73dd2c"
      },
      "source": [
        "np.std((X-means)/standard, axis=0)"
      ],
      "execution_count": null,
      "outputs": [
        {
          "output_type": "execute_result",
          "data": {
            "text/plain": [
              "array([1., 1., 1., 1., 1., 1., 1., 1., 1., 1., 1., 1., 1.])"
            ]
          },
          "metadata": {
            "tags": []
          },
          "execution_count": 14
        }
      ]
    },
    {
      "cell_type": "code",
      "metadata": {
        "id": "u4mna3GN-SsY"
      },
      "source": [
        "Z=(X-means)/standard"
      ],
      "execution_count": null,
      "outputs": []
    },
    {
      "cell_type": "code",
      "metadata": {
        "id": "twUAQ4ky_HuT",
        "colab": {
          "base_uri": "https://localhost:8080/",
          "height": 34
        },
        "outputId": "52859fcf-8440-4ee1-9378-cf4b2de22a15"
      },
      "source": [
        "ones = np.ones((Z.shape[0], 1))\n",
        "ones.shape"
      ],
      "execution_count": null,
      "outputs": [
        {
          "output_type": "execute_result",
          "data": {
            "text/plain": [
              "(506, 1)"
            ]
          },
          "metadata": {
            "tags": []
          },
          "execution_count": 20
        }
      ]
    },
    {
      "cell_type": "code",
      "metadata": {
        "id": "e7moWIPq_M32",
        "colab": {
          "base_uri": "https://localhost:8080/",
          "height": 34
        },
        "outputId": "cf21faab-4df3-4090-ea78-64f5be63a98e"
      },
      "source": [
        "ZU=np.concatenate((ones, Z), axis=1)\n",
        "ZU.shape"
      ],
      "execution_count": null,
      "outputs": [
        {
          "output_type": "execute_result",
          "data": {
            "text/plain": [
              "(506, 14)"
            ]
          },
          "metadata": {
            "tags": []
          },
          "execution_count": 21
        }
      ]
    },
    {
      "cell_type": "code",
      "metadata": {
        "id": "f4PsyNf3_QdV",
        "colab": {
          "base_uri": "https://localhost:8080/",
          "height": 255
        },
        "outputId": "b781af40-47cc-481e-dc85-57b26cb55285"
      },
      "source": [
        "def linear_regression(X, Y, num_iterations, alpha):\n",
        "  m, n = X.shape\n",
        "\n",
        "  theta=np.zeros((n,1))\n",
        "  for i in range(num_iterations):\n",
        "    y_hat=np.matmul(X, theta).reshape((m,))\n",
        "\n",
        "    J=np.sum((y_hat-Y)**2)/(2*m)\n",
        "\n",
        "    Diff=(y_hat-Y).reshape((m,1))\n",
        "\n",
        "    Product=X*Diff\n",
        "    Summ=np.sum(Product, axis=0).reshape((n, 1))\n",
        "\n",
        "    gradient=Summ/m\n",
        "    theta=theta-alpha*gradient\n",
        "  return theta, J\n",
        "\n",
        "theta, J= linear_regression(ZU, Y, 100, 0.2)\n",
        "print(theta, J)"
      ],
      "execution_count": null,
      "outputs": [
        {
          "output_type": "stream",
          "text": [
            "[[22.53280632]\n",
            " [-0.87338929]\n",
            " [ 0.9869205 ]\n",
            " [-0.09301125]\n",
            " [ 0.71480711]\n",
            " [-1.94287374]\n",
            " [ 2.73583864]\n",
            " [-0.02767223]\n",
            " [-3.05907427]\n",
            " [ 2.05442141]\n",
            " [-1.41648666]\n",
            " [-2.02530706]\n",
            " [ 0.84977952]\n",
            " [-3.71604354]] 10.977250294886039\n"
          ],
          "name": "stdout"
        }
      ]
    },
    {
      "cell_type": "code",
      "metadata": {
        "id": "512yRDIA_kmN",
        "colab": {
          "base_uri": "https://localhost:8080/",
          "height": 238
        },
        "outputId": "a61512df-b8e2-4a1d-a36b-7c54b2c31c4b"
      },
      "source": [
        "ZU*Y.reshape((Y.shape[0],1))"
      ],
      "execution_count": null,
      "outputs": [
        {
          "output_type": "execute_result",
          "data": {
            "text/plain": [
              "array([[ 24.        , -10.07476653,   6.83591666, ..., -35.01600913,\n",
              "         10.58524638, -25.81349531],\n",
              "       [ 21.6       ,  -9.01452811, -10.53480308, ...,  -6.5468336 ,\n",
              "          9.52672174, -10.6366903 ],\n",
              "       [ 34.7       , -14.48175324, -16.92396605, ..., -10.51736694,\n",
              "         13.75601669, -41.94284074],\n",
              "       ...,\n",
              "       [ 23.9       ,  -9.88137326, -11.65656452, ...,  28.11753332,\n",
              "         10.54114119, -23.49483782],\n",
              "       [ 22.        ,  -8.97080965, -10.72989202, ...,  25.88224824,\n",
              "          8.87094772, -19.03663585],\n",
              "       [ 11.9       ,  -4.93850193,  -5.80389614, ...,  13.99994337,\n",
              "          5.248518  ,  -7.96179416]])"
            ]
          },
          "metadata": {
            "tags": []
          },
          "execution_count": 25
        }
      ]
    },
    {
      "cell_type": "code",
      "metadata": {
        "id": "CI3tJ0k8Cafd",
        "colab": {
          "base_uri": "https://localhost:8080/",
          "height": 34
        },
        "outputId": "5260e39c-8cd4-45db-9366-601637a397da"
      },
      "source": [
        "np.sum(ZU, axis=0).shape"
      ],
      "execution_count": null,
      "outputs": [
        {
          "output_type": "execute_result",
          "data": {
            "text/plain": [
              "(14,)"
            ]
          },
          "metadata": {
            "tags": []
          },
          "execution_count": 27
        }
      ]
    },
    {
      "cell_type": "code",
      "metadata": {
        "id": "_a7KgumiDXjj"
      },
      "source": [
        ""
      ],
      "execution_count": null,
      "outputs": []
    }
  ]
}