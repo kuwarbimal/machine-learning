{
  "nbformat": 4,
  "nbformat_minor": 0,
  "metadata": {
    "colab": {
      "name": "circle regression.ipynb",
      "provenance": [],
      "collapsed_sections": [],
      "authorship_tag": "ABX9TyMuvKEZFhHrt0cDZ6XL1hGX",
      "include_colab_link": true
    },
    "kernelspec": {
      "name": "python3",
      "display_name": "Python 3"
    }
  },
  "cells": [
    {
      "cell_type": "markdown",
      "metadata": {
        "id": "view-in-github",
        "colab_type": "text"
      },
      "source": [
        "<a href=\"https://colab.research.google.com/github/kuwarbimal/machine-learning/blob/main/circle_regression.ipynb\" target=\"_parent\"><img src=\"https://colab.research.google.com/assets/colab-badge.svg\" alt=\"Open In Colab\"/></a>"
      ]
    },
    {
      "cell_type": "markdown",
      "metadata": {
        "id": "1AyQ2DZyhYEc"
      },
      "source": [
        "# Finding the center of a circle using regression techniques\n",
        "\n",
        "First we pick an arbitary center in a plane, then we generate 1000 random and normally distributed points with center we picked. Then we will try to find the center of these points using regression techniques.\n"
      ]
    },
    {
      "cell_type": "code",
      "metadata": {
        "id": "qUawBrwSI2SQ"
      },
      "source": [
        "import numpy as np\n",
        "from matplotlib import pyplot as plt"
      ],
      "execution_count": null,
      "outputs": []
    },
    {
      "cell_type": "code",
      "metadata": {
        "id": "A9nr3VESI7Hv"
      },
      "source": [
        "center = (5.0, 2.0)\n",
        "m, n = 1000, 2\n",
        "\n",
        "X = np.random.normal(loc=center, size=(m, n)) "
      ],
      "execution_count": null,
      "outputs": []
    },
    {
      "cell_type": "code",
      "metadata": {
        "id": "PpI2mIPiJPjV",
        "outputId": "a6f0d38d-2910-4f3e-862f-22543a9b43a6",
        "colab": {
          "base_uri": "https://localhost:8080/",
          "height": 282
        }
      },
      "source": [
        "plt.scatter(*(X.T))"
      ],
      "execution_count": null,
      "outputs": [
        {
          "output_type": "execute_result",
          "data": {
            "text/plain": [
              "<matplotlib.collections.PathCollection at 0x7fa82c145780>"
            ]
          },
          "metadata": {
            "tags": []
          },
          "execution_count": 7
        },
        {
          "output_type": "display_data",
          "data": {
            "image/png": "[encoded data removed]",
            "text/plain": [
              "<Figure size 432x288 with 1 Axes>"
            ]
          },
          "metadata": {
            "tags": [],
            "needs_background": "light"
          }
        }
      ]
    },
    {
      "cell_type": "code",
      "metadata": {
        "id": "-pm2AKmvJUS8"
      },
      "source": [
        "def regression(X, num_iterations=100, alpha=0.1):\n",
        "  m, n = X.shape\n",
        "  theta = np.zeros((n,))\n",
        "\n",
        "  all_Js = []\n",
        "\n",
        "  for i in range(num_iterations):\n",
        "    J = np.sum((X - theta)**2) / (2 * m)\n",
        "    dJ = - np.sum(X - theta, axis=0)/m\n",
        "    theta = theta - alpha * dJ\n",
        "\n",
        "    all_Js.append(J)\n",
        "\n",
        "  \n",
        "  return theta, all_Js\n"
      ],
      "execution_count": null,
      "outputs": []
    },
    {
      "cell_type": "code",
      "metadata": {
        "id": "KndTJaCcJoOy",
        "outputId": "fb750734-a6fb-4705-89f6-d7c5d70f2503",
        "colab": {
          "base_uri": "https://localhost:8080/",
          "height": 283
        }
      },
      "source": [
        "theta, all_Js = regression(X, num_iterations=100)\n",
        "plt.plot(all_Js)"
      ],
      "execution_count": null,
      "outputs": [
        {
          "output_type": "execute_result",
          "data": {
            "text/plain": [
              "[<matplotlib.lines.Line2D at 0x7fa823e89320>]"
            ]
          },
          "metadata": {
            "tags": []
          },
          "execution_count": 24
        },
        {
          "output_type": "display_data",
          "data": {
            "image/png": "[encoded data removed]",
            "text/plain": [
              "<Figure size 432x288 with 1 Axes>"
            ]
          },
          "metadata": {
            "tags": [],
            "needs_background": "light"
          }
        }
      ]
    },
    {
      "cell_type": "code",
      "metadata": {
        "id": "BZF9hSnCKGpP"
      },
      "source": [
        ""
      ],
      "execution_count": null,
      "outputs": []
    }
  ]
}