{
  "nbformat": 4,
  "nbformat_minor": 0,
  "metadata": {
    "colab": {
      "name": "LinearDiscriminatAnalysis(LDA).ipynb",
      "provenance": [],
      "authorship_tag": "ABX9TyOCePUEl3dkna1lYcmwWD+T",
      "include_colab_link": true
    },
    "kernelspec": {
      "name": "python3",
      "display_name": "Python 3"
    },
    "language_info": {
      "name": "python"
    }
  },
  "cells": [
    {
      "cell_type": "markdown",
      "metadata": {
        "id": "view-in-github",
        "colab_type": "text"
      },
      "source": [
        "<a href=\"https://colab.research.google.com/github/kuwarbimal/machine-learning/blob/main/LinearDiscriminatAnalysis(LDA).ipynb\" target=\"_parent\"><img src=\"https://colab.research.google.com/assets/colab-badge.svg\" alt=\"Open In Colab\"/></a>"
      ]
    },
    {
      "cell_type": "code",
      "execution_count": 1,
      "metadata": {
        "id": "igXX9pie8o-t"
      },
      "outputs": [],
      "source": [
        "from mlxtend.data import iris_data\n"
      ]
    },
    {
      "cell_type": "code",
      "source": [
        "from mlxtend.preprocessing import standardize\n",
        "from mlxtend.feature_extraction import LinearDiscriminantAnalysis"
      ],
      "metadata": {
        "id": "oxOhfiXc8vp5"
      },
      "execution_count": 2,
      "outputs": []
    },
    {
      "cell_type": "code",
      "source": [
        "X, y = iris_data()"
      ],
      "metadata": {
        "id": "0j6BzFq888fs"
      },
      "execution_count": 8,
      "outputs": []
    },
    {
      "cell_type": "code",
      "source": [
        "X = standardize(X)"
      ],
      "metadata": {
        "id": "geN3WJIx8-6v"
      },
      "execution_count": 9,
      "outputs": []
    },
    {
      "cell_type": "code",
      "source": [
        "lda = LinearDiscriminantAnalysis(n_discriminants=2)"
      ],
      "metadata": {
        "id": "lz-Jkx989B4b"
      },
      "execution_count": 11,
      "outputs": []
    },
    {
      "cell_type": "code",
      "source": [
        "lda.fit(X,y)\n",
        "X_lda = lda.transform(X)"
      ],
      "metadata": {
        "id": "CCkIJtr19GtJ"
      },
      "execution_count": 12,
      "outputs": []
    },
    {
      "cell_type": "code",
      "source": [
        ""
      ],
      "metadata": {
        "id": "zg12RvcK9QjB"
      },
      "execution_count": null,
      "outputs": []
    }
  ]
}