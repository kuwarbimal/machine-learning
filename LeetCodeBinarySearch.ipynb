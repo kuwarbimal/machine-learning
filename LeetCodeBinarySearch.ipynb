{
  "nbformat": 4,
  "nbformat_minor": 0,
  "metadata": {
    "colab": {
      "name": "LeetCodeBinarySearch.ipynb",
      "provenance": [],
      "authorship_tag": "ABX9TyPF5hPgAWgcR/BxxXwcOoYC",
      "include_colab_link": true
    },
    "kernelspec": {
      "name": "python3",
      "display_name": "Python 3"
    },
    "language_info": {
      "name": "python"
    }
  },
  "cells": [
    {
      "cell_type": "markdown",
      "metadata": {
        "id": "view-in-github",
        "colab_type": "text"
      },
      "source": [
        "<a href=\"https://colab.research.google.com/github/kuwarbimal/machine-learning/blob/main/LeetCodeBinarySearch.ipynb\" target=\"_parent\"><img src=\"https://colab.research.google.com/assets/colab-badge.svg\" alt=\"Open In Colab\"/></a>"
      ]
    },
    {
      "cell_type": "markdown",
      "source": [
        "# Binary Search Plan"
      ],
      "metadata": {
        "id": "XnT3c5eDaBL-"
      }
    },
    {
      "cell_type": "markdown",
      "source": [
        "## Day 1 Problems: \n",
        "1. Given an array of integers nums which is sorted in ascending order, and an integer target, write a function to search target in nums. If target exists, then return its index. Otherwise, return -1. You must write an algorithm with O(log n) runtime complexity.\n",
        "\n",
        "\n",
        "2. We are playing the Guess Game. The game is as follows:  \n",
        "* I pick a number from 1 to n. You have to guess which number I picked.Every time you guess wrong, I will tell you whether the number I picked is higher or lower than your guess.\n",
        "* You call a pre-defined API int guess(int num), which returns three possible results:\\\\\n",
        " i. -1: Your guess is higher than the number I picked (i.e. num > pick).\n",
        "ii. 1: Your guess is lower than the number I picked (i.e. num < pick).\n",
        "iii. 0: your guess is equal to the number I picked (i.e. num == pick).\n",
        "\n",
        "\n",
        "Return the number that I picked.\n",
        "\n",
        " "
      ],
      "metadata": {
        "id": "RZC0A57MaM__"
      }
    },
    {
      "cell_type": "markdown",
      "source": [
        "\n",
        "```\n",
        "class Solution(object):\n",
        "    def search(self, nums, target):\n",
        "        \"\"\"\n",
        "        :type nums: List[int]\n",
        "        :type target: int\n",
        "        :rtype: int\n",
        "        \"\"\"\n",
        "        left = 0\n",
        "        right = len(nums) - 1\n",
        "        while left <= right:\n",
        "            mid = (left + right) // 2\n",
        "            if nums[mid] == target:\n",
        "                return mid\n",
        "            elif target < nums[mid]:\n",
        "                right = mid - 1\n",
        "            else:\n",
        "                left = mid + 1\n",
        "        \n",
        "        return -1\n",
        "  ```\n",
        "\n",
        "  Problem  2. Solution:\n",
        "  ```\n",
        "  # The guess API is already defined for you.\n",
        "# @param num, your guess\n",
        "# @return -1 if num is higher than the picked number\n",
        "#          1 if num is lower than the picked number\n",
        "#          otherwise return 0\n",
        "# def guess(num):\n",
        "\n",
        "class Solution(object):\n",
        "    def guessNumber(self, n):\n",
        "        \"\"\"\n",
        "        :type n: int\n",
        "        :rtype: int\n",
        "        \"\"\"\n",
        "        left, right = 1, n\n",
        "        while left <= right:\n",
        "            mid = (left+right)// 2\n",
        "            if guess(mid) <= 0: # noqa\n",
        "                right = mid - 1\n",
        "            else:\n",
        "                left = mid + 1\n",
        "        return left\n",
        "\n",
        "        \n",
        "    ```\n"
      ],
      "metadata": {
        "id": "jjs_Nl_fak13"
      }
    },
    {
      "cell_type": "code",
      "source": [
        ""
      ],
      "metadata": {
        "id": "BKerb1WoaxKa"
      },
      "execution_count": null,
      "outputs": []
    },
    {
      "cell_type": "markdown",
      "source": [
        "# Day 2:\n",
        "## 35 Search Insert Position\n",
        "Given a sorted array of distinct integers and a target value, return the index if the target is found. If not, return the index where it would be if it were inserted in order.\n",
        "\n",
        "You must write an algorithm with O(log n) runtime complexity.\n",
        "\n",
        "```\n",
        "class Solution(object):\n",
        "    def searchInsert(self, nums, target):\n",
        "        \"\"\"\n",
        "        :type nums: List[int]\n",
        "        :type target: int\n",
        "        :rtype: int\n",
        "        \"\"\"\n",
        "        start = 0\n",
        "        end = len(nums)-1\n",
        "      \n",
        "        while start <= end:\n",
        "            mid = (start+end)//2\n",
        "            if nums[mid]==target:\n",
        "                return mid\n",
        "            \n",
        "            elif nums[mid]< target:\n",
        "                start = mid +1\n",
        "                m = nums[mid]\n",
        "                n=nums[end]\n",
        "            else:\n",
        "                end = mid-1\n",
        "                \n",
        "        return start\n",
        "  ```\n"
      ],
      "metadata": {
        "id": "Yd5XXNXAnscf"
      }
    },
    {
      "cell_type": "markdown",
      "source": [
        "## Day 2:\n",
        "### 852 Peak index in Mountain Array\n",
        "```\n",
        "class Solution(object):\n",
        "    def peakIndexInMountainArray(self, arr):\n",
        "        \"\"\"\n",
        "        :type arr: List[int]\n",
        "        :rtype: int\n",
        "        \"\"\"\n",
        "        for i in range(1, len(arr)-1):\n",
        "            if (arr[i-1] < arr[i]) and (arr[i]> arr[i+1]):\n",
        "                return i\n",
        "```\n",
        "\n",
        "\n",
        "2nd solution\n",
        "```\n",
        "class Solution(object):\n",
        "    def peakIndexInMountainArray(self, arr):\n",
        "        \"\"\"\n",
        "        :type arr: List[int]\n",
        "        :rtype: int\n",
        "        \"\"\"\n",
        "        return arr.index(max(arr))\n",
        "\n",
        "  ```\n",
        "  "
      ],
      "metadata": {
        "id": "YKcBqefjuH0p"
      }
    },
    {
      "cell_type": "code",
      "source": [
        ""
      ],
      "metadata": {
        "id": "jPSs23davcWU"
      },
      "execution_count": null,
      "outputs": []
    }
  ]
}